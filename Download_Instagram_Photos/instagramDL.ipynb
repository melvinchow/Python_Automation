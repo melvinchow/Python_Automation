{
 "cells": [
  {
   "cell_type": "markdown",
   "metadata": {},
   "source": [
    "# Download Instagram Images"
   ]
  },
  {
   "cell_type": "markdown",
   "metadata": {},
   "source": [
    "Parameters to change for each webpage that needs image scraping:  \n",
    "- (1) URL of one instagram post\n",
    "\n",
    "Currently if one instagram post contains multiple images, it downloads first image only."
   ]
  },
  {
   "cell_type": "markdown",
   "metadata": {},
   "source": [
    "## Import HTML"
   ]
  },
  {
   "cell_type": "markdown",
   "metadata": {},
   "source": [
    "(1) Change URL in 'socks' to URL of your source website"
   ]
  },
  {
   "cell_type": "code",
   "execution_count": null,
   "metadata": {},
   "outputs": [],
   "source": [
    "import urllib.request\n",
    "\n",
    "# PARAMETER 1\n",
    "website = ''\n",
    "\n",
    "socks = urllib.request.urlopen(website)\n",
    "OriginPage = socks.read()  # Originpage = HTML script dump\n",
    "socks.close()\n",
    "\n",
    "from bs4 import BeautifulSoup\n",
    "soup = BeautifulSoup(OriginPage, \"html.parser\")   # soup = formatted HTML script"
   ]
  },
  {
   "cell_type": "markdown",
   "metadata": {},
   "source": [
    "## Filter URLs of images"
   ]
  },
  {
   "cell_type": "markdown",
   "metadata": {},
   "source": [
    "Find all URLs in HTML"
   ]
  },
  {
   "cell_type": "code",
   "execution_count": null,
   "metadata": {
    "collapsed": true
   },
   "outputs": [],
   "source": [
    "URLs = []\n",
    "\n",
    "for link in soup.find_all('meta'):\n",
    "    URLs.append(link.get('content'))"
   ]
  },
  {
   "cell_type": "code",
   "execution_count": null,
   "metadata": {},
   "outputs": [],
   "source": [
    "#URLs"
   ]
  },
  {
   "cell_type": "markdown",
   "metadata": {},
   "source": [
    "Filter URLs to those that match image names"
   ]
  },
  {
   "cell_type": "code",
   "execution_count": null,
   "metadata": {},
   "outputs": [],
   "source": [
    "Pictures = []\n",
    "\n",
    "for i in URLs:\n",
    "    if i and 'n.jpg' in i:          # PARAMETER 2\n",
    "        Pictures.append(i)\n",
    "        \n",
    "Pictures     # display URLs of images"
   ]
  },
  {
   "cell_type": "markdown",
   "metadata": {},
   "source": [
    "## Download image"
   ]
  },
  {
   "cell_type": "markdown",
   "metadata": {},
   "source": [
    "Make folder for incoming images"
   ]
  },
  {
   "cell_type": "code",
   "execution_count": null,
   "metadata": {
    "collapsed": true
   },
   "outputs": [],
   "source": [
    "import os\n",
    "\n",
    "directories = os.path.dirname('images/')\n",
    "\n",
    "for i in directories:\n",
    "    if not os.path.isdir('images/'):\n",
    "        os.makedirs('images/')"
   ]
  },
  {
   "cell_type": "markdown",
   "metadata": {},
   "source": [
    "Save images into folder."
   ]
  },
  {
   "cell_type": "code",
   "execution_count": null,
   "metadata": {},
   "outputs": [],
   "source": [
    "for i in Pictures:\n",
    "    filename = i.split('/')[-1]\n",
    "    try:\n",
    "        urllib.request.urlretrieve(i, 'images/' + filename)\n",
    "        print(filename)                               # print on each successful picture download\n",
    "    except:\n",
    "        print('img not found')\n",
    "        \n",
    "print('Download Complete.')"
   ]
  },
  {
   "cell_type": "code",
   "execution_count": null,
   "metadata": {
    "collapsed": true
   },
   "outputs": [],
   "source": []
  }
 ],
 "metadata": {
  "kernelspec": {
   "display_name": "Python 3",
   "language": "python",
   "name": "python3"
  },
  "language_info": {
   "codemirror_mode": {
    "name": "ipython",
    "version": 3
   },
   "file_extension": ".py",
   "mimetype": "text/x-python",
   "name": "python",
   "nbconvert_exporter": "python",
   "pygments_lexer": "ipython3",
   "version": "3.6.4"
  }
 },
 "nbformat": 4,
 "nbformat_minor": 2
}
